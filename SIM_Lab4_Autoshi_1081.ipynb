{
  "nbformat": 4,
  "nbformat_minor": 0,
  "metadata": {
    "colab": {
      "provenance": [],
      "authorship_tag": "ABX9TyOPAMp6vyIlJQFvOUet7C5X",
      "include_colab_link": true
    },
    "kernelspec": {
      "name": "python3",
      "display_name": "Python 3"
    },
    "language_info": {
      "name": "python"
    }
  },
  "cells": [
    {
      "cell_type": "markdown",
      "metadata": {
        "id": "view-in-github",
        "colab_type": "text"
      },
      "source": [
        "<a href=\"https://colab.research.google.com/github/autoshi02/Simulation-and-Modeling-Lab/blob/main/SIM_Lab4_Autoshi_1081.ipynb\" target=\"_parent\"><img src=\"https://colab.research.google.com/assets/colab-badge.svg\" alt=\"Open In Colab\"/></a>"
      ]
    },
    {
      "cell_type": "code",
      "execution_count": 3,
      "metadata": {
        "colab": {
          "base_uri": "https://localhost:8080/"
        },
        "id": "ieuPw07eo0V3",
        "outputId": "d34b408e-e38e-46ef-a532-d44ba162ed24"
      },
      "outputs": [
        {
          "output_type": "stream",
          "name": "stdout",
          "text": [
            " Range Used  Total Points  Points Inside  Estimated π  Error from math.pi\n",
            "        8.1          1400           1106     3.160000            0.018407\n",
            "        8.1          2800           2248     3.211429            0.069836\n",
            "        8.1          4200           3317     3.159048            0.017455\n",
            "        8.1          5600           4426     3.161429            0.019836\n",
            "        8.1          7000           5492     3.138286            0.003307\n"
          ]
        }
      ],
      "source": [
        "import numpy as np\n",
        "from sympy import Matrix\n",
        "import seaborn as sns\n",
        "import random\n",
        "import pandas as pd\n",
        "\n",
        "student_id = \"81\"\n",
        "\n",
        "\n",
        "R = int(student_id[-2:])\n",
        "radius = R / 10\n",
        "\n",
        "\n",
        "full_name = \"Autoshi\"\n",
        "num_letters = len(full_name.replace(\" \", \"\"))\n",
        "\n",
        "min_points = 200 * num_letters\n",
        "\n",
        "def is_inside_circle(x, y, radius):\n",
        "    return x*x + y*y <= radius*radius\n",
        "\n",
        "def estimate_pi(num_points, radius):\n",
        "    inside = 0\n",
        "\n",
        "    half = num_points // 2\n",
        "\n",
        "    for _ in range(half):\n",
        "        x = random.uniform(0, radius)\n",
        "        y = random.uniform(0, radius)\n",
        "        if is_inside_circle(x, y, radius):\n",
        "            inside += 1\n",
        "\n",
        "    xs = np.random.rand(num_points - half) * radius\n",
        "    ys = np.random.rand(num_points - half) * radius\n",
        "    for x, y in zip(xs, ys):\n",
        "        if is_inside_circle(x, y, radius):\n",
        "            inside += 1\n",
        "\n",
        "\n",
        "    pi_estimate = 4 * radius * radius * inside / num_points / (radius * radius)\n",
        "\n",
        "    pi_estimate = 4 * inside / num_points\n",
        "\n",
        "    return inside, pi_estimate\n",
        "\n",
        "\n",
        "results = []\n",
        "\n",
        "for multiplier in range(1, 6):\n",
        "    points = min_points * multiplier\n",
        "    inside, pi_est = estimate_pi(points, radius)\n",
        "    error = abs(np.pi - pi_est)\n",
        "    results.append({\n",
        "        \"Range Used\": radius,\n",
        "        \"Total Points\": points,\n",
        "        \"Points Inside\": inside,\n",
        "        \"Estimated π\": pi_est,\n",
        "        \"Error from math.pi\": error\n",
        "    })\n",
        "\n",
        "df = pd.DataFrame(results)\n",
        "print(df.to_string(index=False))\n",
        ""
      ]
    }
  ]
}