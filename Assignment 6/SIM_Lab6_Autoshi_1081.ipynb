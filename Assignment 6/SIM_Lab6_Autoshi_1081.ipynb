{
  "nbformat": 4,
  "nbformat_minor": 0,
  "metadata": {
    "colab": {
      "provenance": [],
      "include_colab_link": true
    },
    "kernelspec": {
      "name": "python3",
      "display_name": "Python 3"
    },
    "language_info": {
      "name": "python"
    }
  },
  "cells": [
    {
      "cell_type": "markdown",
      "metadata": {
        "id": "view-in-github",
        "colab_type": "text"
      },
      "source": [
        "<a href=\"https://colab.research.google.com/github/autoshi02/Simulation-and-Modeling-Lab/blob/main/Assignment%206/SIM_Lab6_Autoshi_1081.ipynb\" target=\"_parent\"><img src=\"https://colab.research.google.com/assets/colab-badge.svg\" alt=\"Open In Colab\"/></a>"
      ]
    },
    {
      "cell_type": "markdown",
      "source": [
        "# Hypothesis testing concepts: Two-Sample t-Test"
      ],
      "metadata": {
        "id": "CjwIBAelJpsx"
      }
    },
    {
      "cell_type": "markdown",
      "source": [
        "We want to determine whether there is a significant difference between the means of two independent datasets (Sample 1 and Sample 2) using a two-sample t-test. We assume equal variances."
      ],
      "metadata": {
        "id": "UpuJKnYMQ0J2"
      }
    },
    {
      "cell_type": "markdown",
      "source": [
        "## Import Necessary Libraries"
      ],
      "metadata": {
        "id": "6GovFXEHQ7kE"
      }
    },
    {
      "cell_type": "code",
      "source": [
        "import numpy as np\n",
        "import scipy.stats as stats\n",
        "import matplotlib.pyplot as plt"
      ],
      "metadata": {
        "id": "8Zh4CynrQ_X0"
      },
      "execution_count": 12,
      "outputs": []
    },
    {
      "cell_type": "markdown",
      "source": [
        "## Step 1: Define the two independent datasets"
      ],
      "metadata": {
        "id": "XbQ7fNT0RC8k"
      }
    },
    {
      "cell_type": "code",
      "source": [
        "data1 = np.array([18.4, 19.1, 17.9, 18.7, 18.3])  # Sample 1\n",
        "data2 = np.array([20.2, 20.5, 20.1, 20.3, 20.4])  # Sample 2"
      ],
      "metadata": {
        "id": "f3CenMaGREj8"
      },
      "execution_count": 13,
      "outputs": []
    },
    {
      "cell_type": "markdown",
      "source": [
        "We use equal variances beacause the sample sizes are equal in each group and the variances are similar."
      ],
      "metadata": {
        "id": "DI5lnSa931T7"
      }
    },
    {
      "cell_type": "code",
      "source": [
        "t_statistic, p_value = stats.ttest_ind(data1, data2, equal_var=True)"
      ],
      "metadata": {
        "id": "FaPTe4RCRMSd"
      },
      "execution_count": 14,
      "outputs": []
    },
    {
      "cell_type": "markdown",
      "source": [
        "## Calculate confidence interval for the difference of means"
      ],
      "metadata": {
        "id": "2b7hi4RuRPUd"
      }
    },
    {
      "cell_type": "code",
      "source": [
        "# mean difference\n",
        "mean_diff = np.mean(data1) - np.mean(data2)\n",
        "\n",
        "# sample sizes\n",
        "n1, n2 = len(data1), len(data2)\n",
        "\n",
        "# sample variances\n",
        "s1_sq, s2_sq = np.var(data1, ddof=1), np.var(data2, ddof=1)\n",
        "\n",
        "# pooled variance\n",
        "sp_sq = ((n1 - 1) * s1_sq + (n2 - 1) * s2_sq) / (n1 + n2 - 2)\n",
        "\n",
        "# standard error using pooled variance\n",
        "std_err = np.sqrt(sp_sq * (1/n1 + 1/n2))\n",
        "\n",
        "# degrees of freedom\n",
        "df = n1 + n2 - 2\n",
        "\n",
        "# 95% confidence interval\n",
        "ci = stats.t.interval(0.95, df, loc=mean_diff, scale=std_err)"
      ],
      "metadata": {
        "id": "UgEGzbePRSs8"
      },
      "execution_count": 15,
      "outputs": []
    },
    {
      "cell_type": "markdown",
      "source": [
        "## Step 3: Display results"
      ],
      "metadata": {
        "id": "VqKl2Ip6RaUs"
      }
    },
    {
      "cell_type": "code",
      "source": [
        "print(f\"Sample 1 Mean: {np.mean(data1):.2f}\")\n",
        "print(f\"Sample 2 Mean: {np.mean(data2):.2f}\")\n",
        "print(f\"t-Statistic: {t_statistic:.2f}\")\n",
        "print(f\"Degrees of Freedom: {df:.2f}\")\n",
        "print(f\"p-Value: {p_value:.4f}\")\n",
        "print(f\"Confidence Interval of Mean Difference: [{ci[0]:.2f}, {ci[1]:.2f}]\")\n"
      ],
      "metadata": {
        "colab": {
          "base_uri": "https://localhost:8080/"
        },
        "id": "22IvFXHnRcy0",
        "outputId": "8a607308-6d0e-400a-a3a1-f095f84951e7"
      },
      "execution_count": 16,
      "outputs": [
        {
          "output_type": "stream",
          "name": "stdout",
          "text": [
            "Sample 1 Mean: 18.48\n",
            "Sample 2 Mean: 20.30\n",
            "t-Statistic: -8.54\n",
            "Degrees of Freedom: 8.00\n",
            "p-Value: 0.0000\n",
            "Confidence Interval of Mean Difference: [-2.31, -1.33]\n"
          ]
        }
      ]
    },
    {
      "cell_type": "markdown",
      "source": [
        "## Step 4: Conclusion"
      ],
      "metadata": {
        "id": "8LciJGE_Rf-E"
      }
    },
    {
      "cell_type": "code",
      "source": [
        "alpha = 0.05  # Significance level\n",
        "if p_value < alpha:\n",
        "    print(\"Reject the null hypothesis. The means of the two samples are significantly different.\")\n",
        "else:\n",
        "    print(\"Fail to reject the null hypothesis. The means of the two samples are not significantly different.\")"
      ],
      "metadata": {
        "colab": {
          "base_uri": "https://localhost:8080/"
        },
        "id": "PIESuJAiRjPM",
        "outputId": "a9db83c7-499b-46d1-ceb8-564304f67ba0"
      },
      "execution_count": 11,
      "outputs": [
        {
          "output_type": "stream",
          "name": "stdout",
          "text": [
            "Reject the null hypothesis. The means of the two samples are significantly different.\n"
          ]
        }
      ]
    },
    {
      "cell_type": "markdown",
      "source": [
        "**Based on the p-value being less than the significance level (0.05), we reject the null hypothesis. This means there is sufficient evidence to conclude that the means of the two samples are significantly different.**"
      ],
      "metadata": {
        "id": "GeTHkuwt44e7"
      }
    }
  ]
}